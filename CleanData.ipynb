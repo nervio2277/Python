{
 "cells": [
  {
   "cell_type": "code",
   "execution_count": 1,
   "id": "11d54ec6",
   "metadata": {},
   "outputs": [],
   "source": [
    "import pandas as pd\n",
    "import numpy as np\n",
    "import os"
   ]
  },
  {
   "cell_type": "markdown",
   "id": "f80ae740",
   "metadata": {},
   "source": [
    "1- Inspect the data: Load the data into a pandas DataFrame to understand its structure, data types, and initial content. ok\n",
    "\n",
    "2- Handle missing values: Identify and handle missing values using imputation or removal techniques.ok\n",
    "\n",
    "3- Correct data types: Ensure that each column has the correct data type. Convert if necessary. \n",
    "\n",
    "4- Remove duplicates: Identify and remove duplicate rows.\n",
    "\n",
    "5- Handle outliers: Identify and handle outliers using appropriate methods.\n",
    "\n",
    "6- Standardize and normalize data: Standardize or normalize numerical columns if necessary.\n",
    "\n",
    "7- Validate data: Check for inconsistencies and errors in the data.\n",
    "\n",
    "8- Save the cleaned data: Save the cleaned data to a new CSV file.\n"
   ]
  },
  {
   "cell_type": "code",
   "execution_count": 2,
   "id": "e513143e",
   "metadata": {},
   "outputs": [
    {
     "data": {
      "text/html": [
       "<div>\n",
       "<style scoped>\n",
       "    .dataframe tbody tr th:only-of-type {\n",
       "        vertical-align: middle;\n",
       "    }\n",
       "\n",
       "    .dataframe tbody tr th {\n",
       "        vertical-align: top;\n",
       "    }\n",
       "\n",
       "    .dataframe thead th {\n",
       "        text-align: right;\n",
       "    }\n",
       "</style>\n",
       "<table border=\"1\" class=\"dataframe\">\n",
       "  <thead>\n",
       "    <tr style=\"text-align: right;\">\n",
       "      <th></th>\n",
       "      <th>USER_ID</th>\n",
       "      <th>ORDER_ID</th>\n",
       "      <th>PURCHASE_TS</th>\n",
       "      <th>SHIP_TS</th>\n",
       "      <th>PRODUCT_NAME</th>\n",
       "      <th>PRODUCT_ID</th>\n",
       "      <th>USD_PRICE</th>\n",
       "      <th>PURCHASE_PLATFORM</th>\n",
       "      <th>MARKETING_CHANNEL</th>\n",
       "      <th>ACCOUNT_CREATION_METHOD</th>\n",
       "      <th>COUNTRY_CODE</th>\n",
       "    </tr>\n",
       "  </thead>\n",
       "  <tbody>\n",
       "    <tr>\n",
       "      <th>0</th>\n",
       "      <td>2c06175e</td>\n",
       "      <td>0001328c3c220830</td>\n",
       "      <td>2020-12-24 00:00:00</td>\n",
       "      <td>2020-12-13</td>\n",
       "      <td>Nintendo Switch</td>\n",
       "      <td>e682</td>\n",
       "      <td>168.00</td>\n",
       "      <td>website</td>\n",
       "      <td>affiliate</td>\n",
       "      <td>unknown</td>\n",
       "      <td>US</td>\n",
       "    </tr>\n",
       "    <tr>\n",
       "      <th>1</th>\n",
       "      <td>ee8e5bc2</td>\n",
       "      <td>0002af7a5c6100772</td>\n",
       "      <td>2020-10-01 00:00:00</td>\n",
       "      <td>2020-09-21</td>\n",
       "      <td>Nintendo Switch</td>\n",
       "      <td>e682</td>\n",
       "      <td>160.61</td>\n",
       "      <td>website</td>\n",
       "      <td>direct</td>\n",
       "      <td>desktop</td>\n",
       "      <td>DE</td>\n",
       "    </tr>\n",
       "    <tr>\n",
       "      <th>2</th>\n",
       "      <td>9eb4efe0</td>\n",
       "      <td>0002b8350e167074</td>\n",
       "      <td>2020-04-21 00:00:00</td>\n",
       "      <td>2020-02-16</td>\n",
       "      <td>Nintendo Switch</td>\n",
       "      <td>8d0d</td>\n",
       "      <td>151.20</td>\n",
       "      <td>website</td>\n",
       "      <td>direct</td>\n",
       "      <td>desktop</td>\n",
       "      <td>US</td>\n",
       "    </tr>\n",
       "    <tr>\n",
       "      <th>3</th>\n",
       "      <td>cac7cbaf</td>\n",
       "      <td>0006d06b98385729</td>\n",
       "      <td>2020-04-07 00:00:00</td>\n",
       "      <td>2020-04-04</td>\n",
       "      <td>Sony PlayStation 5 Bundle</td>\n",
       "      <td>54ed</td>\n",
       "      <td>1132.82</td>\n",
       "      <td>website</td>\n",
       "      <td>direct</td>\n",
       "      <td>desktop</td>\n",
       "      <td>AU</td>\n",
       "    </tr>\n",
       "    <tr>\n",
       "      <th>4</th>\n",
       "      <td>6b0230bc</td>\n",
       "      <td>00097279a2f46150</td>\n",
       "      <td>2020-11-24 00:00:00</td>\n",
       "      <td>2020-08-02</td>\n",
       "      <td>Nintendo Switch</td>\n",
       "      <td>8d0d</td>\n",
       "      <td>33.89</td>\n",
       "      <td>website</td>\n",
       "      <td>direct</td>\n",
       "      <td>desktop</td>\n",
       "      <td>TR</td>\n",
       "    </tr>\n",
       "  </tbody>\n",
       "</table>\n",
       "</div>"
      ],
      "text/plain": [
       "    USER_ID           ORDER_ID          PURCHASE_TS    SHIP_TS  \\\n",
       "0  2c06175e   0001328c3c220830  2020-12-24 00:00:00 2020-12-13   \n",
       "1  ee8e5bc2  0002af7a5c6100772  2020-10-01 00:00:00 2020-09-21   \n",
       "2  9eb4efe0   0002b8350e167074  2020-04-21 00:00:00 2020-02-16   \n",
       "3  cac7cbaf   0006d06b98385729  2020-04-07 00:00:00 2020-04-04   \n",
       "4  6b0230bc   00097279a2f46150  2020-11-24 00:00:00 2020-08-02   \n",
       "\n",
       "                PRODUCT_NAME PRODUCT_ID  USD_PRICE PURCHASE_PLATFORM  \\\n",
       "0            Nintendo Switch       e682     168.00           website   \n",
       "1            Nintendo Switch       e682     160.61           website   \n",
       "2            Nintendo Switch       8d0d     151.20           website   \n",
       "3  Sony PlayStation 5 Bundle       54ed    1132.82           website   \n",
       "4            Nintendo Switch       8d0d      33.89           website   \n",
       "\n",
       "  MARKETING_CHANNEL ACCOUNT_CREATION_METHOD COUNTRY_CODE  \n",
       "0         affiliate                 unknown           US  \n",
       "1            direct                 desktop           DE  \n",
       "2            direct                 desktop           US  \n",
       "3            direct                 desktop           AU  \n",
       "4            direct                 desktop           TR  "
      ]
     },
     "metadata": {},
     "output_type": "display_data"
    }
   ],
   "source": [
    "df = pd.read_excel(\"gamezone-orders-data.xlsx\")\n",
    "\n",
    "display(df.head())"
   ]
  },
  {
   "cell_type": "code",
   "execution_count": 9,
   "id": "c2b2cb2e",
   "metadata": {},
   "outputs": [
    {
     "name": "stdout",
     "output_type": "stream",
     "text": [
      "Datos nulos por columna:\n",
      "USER_ID                     0\n",
      "ORDER_ID                    0\n",
      "PURCHASE_TS                 0\n",
      "SHIP_TS                     0\n",
      "PRODUCT_NAME                0\n",
      "PRODUCT_ID                  0\n",
      "USD_PRICE                   5\n",
      "PURCHASE_PLATFORM           0\n",
      "MARKETING_CHANNEL          83\n",
      "ACCOUNT_CREATION_METHOD    83\n",
      "COUNTRY_CODE               38\n",
      "dtype: int64\n"
     ]
    }
   ],
   "source": [
    "null_check = df.isnull().sum()\n",
    "print(\"Datos nulos por columna:\")\n",
    "print(null_check)"
   ]
  },
  {
   "cell_type": "code",
   "execution_count": 5,
   "id": "65f53a45",
   "metadata": {},
   "outputs": [
    {
     "name": "stdout",
     "output_type": "stream",
     "text": [
      "    USER_ID           ORDER_ID          PURCHASE_TS    SHIP_TS  \\\n",
      "0  2c06175e   0001328c3c220830  2020-12-24 00:00:00 2020-12-13   \n",
      "1  ee8e5bc2  0002af7a5c6100772  2020-10-01 00:00:00 2020-09-21   \n",
      "2  9eb4efe0   0002b8350e167074  2020-04-21 00:00:00 2020-02-16   \n",
      "3  cac7cbaf   0006d06b98385729  2020-04-07 00:00:00 2020-04-04   \n",
      "4  6b0230bc   00097279a2f46150  2020-11-24 00:00:00 2020-08-02   \n",
      "\n",
      "                PRODUCT_NAME PRODUCT_ID  USD_PRICE PURCHASE_PLATFORM  \\\n",
      "0            Nintendo Switch       e682     168.00           website   \n",
      "1            Nintendo Switch       e682     160.61           website   \n",
      "2            Nintendo Switch       8d0d     151.20           website   \n",
      "3  Sony PlayStation 5 Bundle       54ed    1132.82           website   \n",
      "4            Nintendo Switch       8d0d      33.89           website   \n",
      "\n",
      "  MARKETING_CHANNEL ACCOUNT_CREATION_METHOD COUNTRY_CODE  \n",
      "0         affiliate                 unknown           US  \n",
      "1            direct                 desktop           DE  \n",
      "2            direct                 desktop           US  \n",
      "3            direct                 desktop           AU  \n",
      "4            direct                 desktop           TR  \n"
     ]
    }
   ],
   "source": [
    "df_mod = pd.DataFrame(df)\n",
    "\n",
    "print(df_mod.head())"
   ]
  },
  {
   "cell_type": "code",
   "execution_count": 7,
   "id": "2d3689ff",
   "metadata": {},
   "outputs": [
    {
     "name": "stdout",
     "output_type": "stream",
     "text": [
      "     USER_ID           ORDER_ID PURCHASE_TS    SHIP_TS  \\\n",
      "0   2c06175e   0001328c3c220830  2020-12-24 2020-12-13   \n",
      "1   ee8e5bc2  0002af7a5c6100772  2020-10-01 2020-09-21   \n",
      "2   9eb4efe0   0002b8350e167074  2020-04-21 2020-02-16   \n",
      "3   cac7cbaf   0006d06b98385729  2020-04-07 2020-04-04   \n",
      "4   6b0230bc   00097279a2f46150  2020-11-24 2020-08-02   \n",
      "5   046e7528    000f169e17f4941  2020-08-20 2020-08-09   \n",
      "6   94dfec76   000fdd9bfe463101  2020-05-11 2020-03-05   \n",
      "7   8a328a1d   0010d31e3c058676  2020-07-03 2020-04-03   \n",
      "8   46c57b58   0013ac51a8831707  2019-03-24 2018-10-29   \n",
      "9   a2eaa1d1   001620ea42468912  2019-11-01 2019-10-17   \n",
      "10  c7c492f8   0016654fc8584512  2019-12-09 2019-07-22   \n",
      "11  d71c06c6   00236994a0b90874  2019-08-30 2019-06-29   \n",
      "12  9933b602   002a0b04dd764807  2020-02-16 2019-12-08   \n",
      "13  bbbaa7ff   002f0b22bb379479  2020-05-14 2020-03-24   \n",
      "14  68673786    003ed9bd3d71799  2020-10-26 2020-06-01   \n",
      "15  1802f1a0   004602d9c2d12771  2020-10-13 2020-08-30   \n",
      "16  2abdb1d2   004d6bc82f820293  2020-10-25 2020-08-01   \n",
      "17  deba2f70   004eca8109c94135  2019-12-24 2019-09-11   \n",
      "18  d9f8bd41   0053e1f565292085  2019-05-20 2019-04-09   \n",
      "19  d37ef9f9   006116b394689293  2020-12-23 2020-08-29   \n",
      "\n",
      "                      PRODUCT_NAME PRODUCT_ID  USD_PRICE PURCHASE_PLATFORM  \\\n",
      "0                  Nintendo Switch       e682     168.00           website   \n",
      "1                  Nintendo Switch       e682     160.61           website   \n",
      "2                  Nintendo Switch       8d0d     151.20           website   \n",
      "3        Sony PlayStation 5 Bundle       54ed    1132.82           website   \n",
      "4                  Nintendo Switch       8d0d      33.89           website   \n",
      "5                  Nintendo Switch       8d0d     168.00           website   \n",
      "6           27in 4K gaming monitor       891b     390.59           website   \n",
      "7           27in 4K gaming monitor       891b     480.00           website   \n",
      "8   JBL Quantum 100 Gaming Headset       ab0f      22.22           website   \n",
      "9                  Nintendo Switch       e682     168.00           website   \n",
      "10                 Nintendo Switch       8d0d     150.53           website   \n",
      "11                 Nintendo Switch       8d0d     146.25           website   \n",
      "12       Sony PlayStation 5 Bundle       54ed    1725.86           website   \n",
      "13                 Nintendo Switch       e682     168.00           website   \n",
      "14                 Nintendo Switch       8d0d     134.41           website   \n",
      "15       Sony PlayStation 5 Bundle       54ed    1368.45           website   \n",
      "16          27in 4K gaming monitor       e7e6     480.00           website   \n",
      "17                 Nintendo Switch       e682     168.00           website   \n",
      "18  JBL Quantum 100 Gaming Headset       ab0f      24.00           website   \n",
      "19          27in 4K gaming monitor       891b     312.00           website   \n",
      "\n",
      "   MARKETING_CHANNEL ACCOUNT_CREATION_METHOD COUNTRY_CODE  \n",
      "0          affiliate                 unknown           US  \n",
      "1             direct                 desktop           DE  \n",
      "2             direct                 desktop           US  \n",
      "3             direct                 desktop           AU  \n",
      "4             direct                 desktop           TR  \n",
      "5             direct                 desktop           PH  \n",
      "6             direct                 desktop           GB  \n",
      "7             direct                 desktop           BR  \n",
      "8             direct                 desktop           BE  \n",
      "9             direct                 desktop           US  \n",
      "10            direct                 desktop           FR  \n",
      "11            direct                 desktop           KR  \n",
      "12            direct                 desktop           US  \n",
      "13            direct                 desktop           US  \n",
      "14            direct                 desktop           ES  \n",
      "15            direct                 desktop           AU  \n",
      "16            direct                 desktop           US  \n",
      "17            direct                 desktop           US  \n",
      "18            direct                 desktop           US  \n",
      "19            direct                 desktop           US  \n",
      "\n",
      "Valores NaT (faltantes) en columnas de fecha después de la conversión:\n",
      "PURCHASE_TS    5\n",
      "SHIP_TS        0\n",
      "dtype: int64\n"
     ]
    }
   ],
   "source": [
    "# Convertir columnas de fecha a datetime (si no lo están ya)\n",
    "# Corrección: usar errors='coerce' para manejar entradas que no se pueden convertir\n",
    "df_mod['PURCHASE_TS'] = pd.to_datetime(df_mod['PURCHASE_TS'], errors='coerce')\n",
    "df_mod['SHIP_TS'] = pd.to_datetime(df_mod['SHIP_TS'], errors='coerce')\n",
    "\n",
    "print(df_mod.head(20))\n",
    "\n",
    "# Después de esta corrección, puedes verificar si se generaron valores NaT (Not a Time):\n",
    "print(\"\\nValores NaT (faltantes) en columnas de fecha después de la conversión:\")\n",
    "print(df_mod[['PURCHASE_TS', 'SHIP_TS']].isnull().sum())"
   ]
  },
  {
   "cell_type": "code",
   "execution_count": 12,
   "id": "5b6bdd72",
   "metadata": {},
   "outputs": [
    {
     "name": "stdout",
     "output_type": "stream",
     "text": [
      "Filas con valores NaT (faltantes) en 'PURCHASE_TS':\n",
      "Empty DataFrame\n",
      "Columns: [USER_ID, ORDER_ID, PURCHASE_TS, SHIP_TS, PRODUCT_NAME, PRODUCT_ID, USD_PRICE, PURCHASE_PLATFORM, MARKETING_CHANNEL, ACCOUNT_CREATION_METHOD, COUNTRY_CODE]\n",
      "Index: []\n"
     ]
    }
   ],
   "source": [
    "# Suponiendo que df_mod ya ha sido procesado con pd.to_datetime(df_mod['PURCHASE_TS'], errors='coerce')\n",
    "\n",
    "# Filas donde PURCHASE_TS es NaT\n",
    "filas_con_nat_purchase_ts = df_mod[df_mod['PURCHASE_TS'].isnull()]\n",
    "\n",
    "print(\"Filas con valores NaT (faltantes) en 'PURCHASE_TS':\")\n",
    "print(filas_con_nat_purchase_ts)\n",
    "\n",
    "# Si solo quieres ver cuántas hay:\n",
    "#print(f\"Número de filas con NaT en 'PURCHASE_TS': {filas_con_nat_purchase_ts.shape[0]}\")\n",
    "# O, como ya hiciste antes:\n",
    "# print(f\"Número de filas con NaT en 'PURCHASE_TS': {df_mod['PURCHASE_TS'].isnull().sum()}\")"
   ]
  },
  {
   "cell_type": "code",
   "execution_count": 11,
   "id": "f54fb93a",
   "metadata": {},
   "outputs": [
    {
     "name": "stdout",
     "output_type": "stream",
     "text": [
      "Verificación de las filas donde PURCHASE_TS era NaT:\n",
      "      PURCHASE_TS    SHIP_TS\n",
      "1047   2019-07-07 2019-07-08\n",
      "5846   2021-01-10 2021-01-11\n",
      "11853  2019-04-10 2019-04-11\n",
      "16163  2019-05-17 2019-05-18\n",
      "20725  2019-01-16 2019-01-17\n",
      "\n",
      "Conteo de NaT en PURCHASE_TS después de la imputación:\n",
      "0\n"
     ]
    }
   ],
   "source": [
    "\n",
    "# Identificar las filas donde PURCHASE_TS es NaT\n",
    "condicion_nat_purchase_ts = df_mod['PURCHASE_TS'].isnull()\n",
    "\n",
    "# Para esas filas, calcular PURCHASE_TS como SHIP_TS - 24 horas\n",
    "# Usamos .loc para evitar SettingWithCopyWarning y asegurar que la asignación se haga en el DataFrame original.\n",
    "# También nos aseguramos de que SHIP_TS no sea NaT para las filas que vamos a modificar.\n",
    "# Si SHIP_TS también es NaT, PURCHASE_TS seguirá siendo NaT después de esta operación.\n",
    "df_mod.loc[condicion_nat_purchase_ts, 'PURCHASE_TS'] = df_mod.loc[condicion_nat_purchase_ts, 'SHIP_TS'] - pd.Timedelta(hours=24)\n",
    "\n",
    "# Opcional: Verificar los cambios\n",
    "print(\"Verificación de las filas donde PURCHASE_TS era NaT:\")\n",
    "# Mostramos algunas columnas relevantes de las filas que potencialmente fueron modificadas\n",
    "# Si SHIP_TS también era NaT para alguna de estas filas, PURCHASE_TS seguirá siendo NaT\n",
    "print(df_mod[condicion_nat_purchase_ts][['PURCHASE_TS', 'SHIP_TS']])\n",
    "\n",
    "print(\"\\nConteo de NaT en PURCHASE_TS después de la imputación:\")\n",
    "print(df_mod['PURCHASE_TS'].isnull().sum())"
   ]
  },
  {
   "cell_type": "code",
   "execution_count": 14,
   "id": "038a007b",
   "metadata": {},
   "outputs": [
    {
     "name": "stdout",
     "output_type": "stream",
     "text": [
      "5\n",
      "0\n",
      "0\n",
      "0\n"
     ]
    }
   ],
   "source": [
    "# Numeric columns (USD_PRICE)\n",
    "# USD_PRICE should be a float.\n",
    "if 'USD_PRICE' in df_mod.columns:\n",
    "    df_mod['USD_PRICE'] = pd.to_numeric(df_mod['USD_PRICE'], errors='coerce')\n",
    "    # If errors='coerce' creates new NaNs, you might need to re-impute them.\n",
    "    # For example: df_mod['USD_PRICE'].fillna(df_mod['USD_PRICE'].median(), inplace=True)\n",
    "\n",
    "print(df_mod['USD_PRICE'].isnull().sum())\n",
    "\n",
    "# MARKETING_CHANNEL should be a string.\n",
    "if 'MARKETING_CHANNEL' in df_mod.columns:\n",
    "    df_mod['MARKETING_CHANNEL'] = df_mod['MARKETING_CHANNEL'].astype(str)\n",
    "\n",
    "print(df_mod['MARKETING_CHANNEL'].isnull().sum())\n",
    "\n",
    "# ACCOUNT_CREATION_METHOD should be a string.\n",
    "if 'ACCOUNT_CREATION_METHOD' in df_mod.columns:\n",
    "    df_mod['ACCOUNT_CREATION_METHOD'] = df_mod['ACCOUNT_CREATION_METHOD'].astype(str)\n",
    "\n",
    "print(df_mod['ACCOUNT_CREATION_METHOD'].isnull().sum())\n",
    "\n",
    "# SHIP_TS should be a datetime.\n",
    "if 'SHIP_TS' in df_mod.columns:\n",
    "    df_mod['SHIP_TS'] = pd.to_datetime(df_mod['SHIP_TS'], errors='coerce')\n",
    "\n",
    "print(df_mod['SHIP_TS'].isnull().sum())\n",
    "\n",
    "\n",
    "\n",
    "\n",
    "\n"
   ]
  },
  {
   "cell_type": "code",
   "execution_count": 15,
   "id": "f1ca1c19",
   "metadata": {},
   "outputs": [
    {
     "name": "stdout",
     "output_type": "stream",
     "text": [
      "Filas con valores NaT (faltantes) en 'USD_PRICE':\n",
      "        USER_ID           ORDER_ID PURCHASE_TS    SHIP_TS  \\\n",
      "1190   f2939b5c  0fa89eecc5d102514  2020-08-20 2020-05-26   \n",
      "13282  45913313    ab0b1a9c91a1197  2019-12-25 2019-12-28   \n",
      "14189  1c173578   b6a132d331c14466  2020-09-01 2020-09-04   \n",
      "20044  7c364c50   eee5663869153075  2020-07-11 2020-07-12   \n",
      "20227  70565cdf   f063ed5ec8848400  2021-01-08 2021-01-10   \n",
      "\n",
      "                         PRODUCT_NAME PRODUCT_ID  USD_PRICE PURCHASE_PLATFORM  \\\n",
      "1190                Dell Gaming Mouse       0c5a        NaN        mobile app   \n",
      "13282  JBL Quantum 100 Gaming Headset       2997        NaN        mobile app   \n",
      "14189               Dell Gaming Mouse       f81e        NaN        mobile app   \n",
      "20044               Dell Gaming Mouse       f81e        NaN        mobile app   \n",
      "20227               Dell Gaming Mouse       f81e        NaN        mobile app   \n",
      "\n",
      "      MARKETING_CHANNEL ACCOUNT_CREATION_METHOD COUNTRY_CODE  \n",
      "1190              email                 desktop           GH  \n",
      "13282             email                  mobile           KE  \n",
      "14189            direct                 desktop           KE  \n",
      "20044             email                  mobile           VE  \n",
      "20227             email                 desktop           BO  \n"
     ]
    }
   ],
   "source": [
    "\n",
    "# Filas donde PURCHASE_TS es NaT\n",
    "filas_con_nat_purchase_ts = df_mod[df_mod['USD_PRICE'].isnull()]\n",
    "\n",
    "print(\"Filas con valores NaT (faltantes) en 'USD_PRICE':\")\n",
    "print(filas_con_nat_purchase_ts)"
   ]
  },
  {
   "cell_type": "markdown",
   "id": "6a6a302b",
   "metadata": {},
   "source": [
    "Filtrar DF basando en condiciones"
   ]
  },
  {
   "cell_type": "code",
   "execution_count": null,
   "id": "774971c9",
   "metadata": {},
   "outputs": [
    {
     "ename": "IndentationError",
     "evalue": "expected an indented block after 'for' statement on line 13 (3526968853.py, line 14)",
     "output_type": "error",
     "traceback": [
      "\u001b[1;36m  Cell \u001b[1;32mIn[17], line 14\u001b[1;36m\u001b[0m\n\u001b[1;33m    if col in df_mod.columns:\u001b[0m\n\u001b[1;37m    ^\u001b[0m\n\u001b[1;31mIndentationError\u001b[0m\u001b[1;31m:\u001b[0m expected an indented block after 'for' statement on line 13\n"
     ]
    }
   ],
   "source": []
  }
 ],
 "metadata": {
  "kernelspec": {
   "display_name": "gestor_gastos",
   "language": "python",
   "name": "python3"
  },
  "language_info": {
   "codemirror_mode": {
    "name": "ipython",
    "version": 3
   },
   "file_extension": ".py",
   "mimetype": "text/x-python",
   "name": "python",
   "nbconvert_exporter": "python",
   "pygments_lexer": "ipython3",
   "version": "3.13.2"
  }
 },
 "nbformat": 4,
 "nbformat_minor": 5
}
